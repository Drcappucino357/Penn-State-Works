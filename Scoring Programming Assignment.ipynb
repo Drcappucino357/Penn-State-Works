{
 "cells": [
  {
   "cell_type": "code",
   "execution_count": 1,
   "metadata": {
    "collapsed": true
   },
   "outputs": [],
   "source": [
    "from scipy import stats\n",
    "from scipy.stats import poisson \n",
    "import numpy as np \n",
    "import pandas as pd\n",
    "from scipy.stats import binom \n",
    "import matplotlib.pyplot as plt"
   ]
  },
  {
   "cell_type": "code",
   "execution_count": 2,
   "metadata": {},
   "outputs": [
    {
     "name": "stdout",
     "output_type": "stream",
     "text": [
      "[72. 70. 74. 51. 69. 51. 79. 80. 86. 46. 85. 88. 83. 74. 87. 75. 80. 76.\n",
      " 62. 89.]\n",
      "----------\n",
      "Z-Scores\n",
      "[-0.14935512 -0.31082012  0.01210987 -1.8447376  -0.39155262 -1.8447376\n",
      "  0.41577237  0.49650487  0.98089986 -2.2484001   0.90016736  1.14236486\n",
      "  0.73870237  0.01210987  1.06163236  0.09284237  0.49650487  0.17357487\n",
      " -0.95668011  1.22309736]\n"
     ]
    }
   ],
   "source": [
    "n = 20 \n",
    "mean = 75 \n",
    "standard_dv = 10\n",
    "\n",
    "scores = np.random.normal(mean, standard_dv, n).round()\n",
    "print(scores)\n",
    "print('----------')\n",
    "print('Z-Scores')\n",
    "zscore = stats.zscore(scores)\n",
    "print(zscore)"
   ]
  },
  {
   "cell_type": "code",
   "execution_count": 3,
   "metadata": {},
   "outputs": [
    {
     "name": "stdout",
     "output_type": "stream",
     "text": [
      "zsum\n",
      "8.881784197001252e-15\n",
      "----------\n",
      "totalcount\n",
      "20\n",
      "----------\n",
      "zaverage\n",
      "4.440892098500626e-16\n"
     ]
    }
   ],
   "source": [
    "zsum = (zscore.sum())\n",
    "print('zsum')\n",
    "print(zsum)\n",
    "print('----------')\n",
    "totalcount = len(zscore) \n",
    "print('totalcount')\n",
    "print(totalcount)\n",
    "print('----------')\n",
    "zaverage = (zsum/totalcount)\n",
    "print('zaverage')\n",
    "print(zaverage)"
   ]
  },
  {
   "cell_type": "code",
   "execution_count": 4,
   "metadata": {},
   "outputs": [
    {
     "name": "stdout",
     "output_type": "stream",
     "text": [
      "Probability\n",
      "0.4999999999999998\n",
      "---------\n",
      "Z-Score probability\n",
      "5.565832849343534e-16\n",
      "---------\n",
      "People who score 75.2 or better are likely to be in the top 15%\n",
      "73.85\n"
     ]
    }
   ],
   "source": [
    "prob = 1 - stats.norm.cdf(zaverage) \n",
    "print('Probability')\n",
    "print(prob)\n",
    "print('---------')\n",
    "total_prob = 1\n",
    "score = stats.norm.ppf(total_prob - prob) \n",
    "print('Z-Score probability')\n",
    "print(score)\n",
    "print('---------')\n",
    "print('People who score 75.2 or better are likely to be in the top 15%')# Is that right seems rather low?\n",
    "print(score * scores.std() + scores.mean())"
   ]
  },
  {
   "cell_type": "code",
   "execution_count": 5,
   "metadata": {},
   "outputs": [
    {
     "name": "stdout",
     "output_type": "stream",
     "text": [
      "FOR 90 DESIRED\n",
      "-----------------\n",
      "1.2109874845695692\n",
      "0.11295010067548639\n",
      "Percentage\n",
      "11.295010067548638\n",
      "We would accept our null hypothesis of our class being representitive of the population with 4.64% being smaller than 5%\n",
      "           \n",
      "FOR 100 DESIRED\n",
      "-----------------\n",
      "2.0183124742826153\n",
      "0.021779364186172656\n",
      "Percentage\n",
      "2.1779364186172656\n",
      "We would accept our null hypothesis of our class being representitive of the population with 0.25% being smaller than 5%\n"
     ]
    }
   ],
   "source": [
    "desiredscore = 90\n",
    "desiredscore2 = 100\n",
    "# not sure where the desired score was for the first prompt so I used 90/100 \n",
    "# using 55 gives a very high percentage for success\n",
    "print('FOR 90 DESIRED')\n",
    "zscore = ((desiredscore - mean)/scores.std())\n",
    "print('-----------------')\n",
    "print(zscore)\n",
    "probt = total_prob - stats.norm.cdf(zscore) \n",
    "print(probt)\n",
    "print('Percentage')\n",
    "print(probt * 100)\n",
    "print('We would accept our null hypothesis of our class being representitive of the population with 4.64% being smaller than 5%')\n",
    "\n",
    "print('           ')\n",
    "\n",
    "print('FOR 100 DESIRED')\n",
    "zscore2 = ((desiredscore2 - mean)/scores.std())\n",
    "print('-----------------')\n",
    "print(zscore2)\n",
    "probt2 = total_prob - stats.norm.cdf(zscore2) \n",
    "print(probt2)\n",
    "print('Percentage')\n",
    "print(probt2 * 100)\n",
    "print('We would accept our null hypothesis of our class being representitive of the population with 0.25% being smaller than 5%')\n"
   ]
  },
  {
   "cell_type": "code",
   "execution_count": null,
   "metadata": {
    "collapsed": true
   },
   "outputs": [],
   "source": []
  },
  {
   "cell_type": "markdown",
   "metadata": {},
   "source": [
    "#Two Tailed / Prompt 2"
   ]
  },
  {
   "cell_type": "code",
   "execution_count": 6,
   "metadata": {},
   "outputs": [
    {
     "name": "stdout",
     "output_type": "stream",
     "text": [
      "0.5\n",
      "0.6914624612740131\n",
      "69.14624612740131\n",
      "We would reject our null hypothesis of our class being representitive of the population with 69.15% being far over the 2.5%\n"
     ]
    }
   ],
   "source": [
    "# Variables\n",
    "class_score = 60\n",
    "standard_c = 3\n",
    "national_score = 55\n",
    "standard_n = 10 \n",
    "\n",
    "# Z-Score\n",
    "zscore = (class_score - national_score) / standard_n # Think to use n to compare sample to population but not sure\n",
    "print(zscore)\n",
    "\n",
    "# P-Value\n",
    "prob = stats.norm.cdf(zscore)\n",
    "print(prob)\n",
    "print(prob * 100)\n",
    "\n",
    "print('We would reject our null hypothesis of our class being representitive of the population with 69.15% being far over the 2.5%')\n"
   ]
  },
  {
   "cell_type": "code",
   "execution_count": null,
   "metadata": {
    "collapsed": true
   },
   "outputs": [],
   "source": []
  }
 ],
 "metadata": {
  "kernelspec": {
   "display_name": "Python 3",
   "language": "python",
   "name": "python3"
  },
  "language_info": {
   "codemirror_mode": {
    "name": "ipython",
    "version": 3
   },
   "file_extension": ".py",
   "mimetype": "text/x-python",
   "name": "python",
   "nbconvert_exporter": "python",
   "pygments_lexer": "ipython3",
   "version": "3.6.1"
  }
 },
 "nbformat": 4,
 "nbformat_minor": 5
}
