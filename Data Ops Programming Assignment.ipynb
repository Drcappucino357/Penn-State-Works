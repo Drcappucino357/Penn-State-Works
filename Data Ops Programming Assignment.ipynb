{
 "cells": [
  {
   "cell_type": "code",
   "execution_count": 2,
   "metadata": {
    "collapsed": true
   },
   "outputs": [],
   "source": [
    "import numpy as np\n",
    "import pandas as pd\n",
    "from scipy.stats import binom\n",
    "import matplotlib.pyplot as plt"
   ]
  },
  {
   "cell_type": "code",
   "execution_count": 3,
   "metadata": {},
   "outputs": [
    {
     "data": {
      "text/html": [
       "<div>\n",
       "<style>\n",
       "    .dataframe thead tr:only-child th {\n",
       "        text-align: right;\n",
       "    }\n",
       "\n",
       "    .dataframe thead th {\n",
       "        text-align: left;\n",
       "    }\n",
       "\n",
       "    .dataframe tbody tr th {\n",
       "        vertical-align: top;\n",
       "    }\n",
       "</style>\n",
       "<table border=\"1\" class=\"dataframe\">\n",
       "  <thead>\n",
       "    <tr style=\"text-align: right;\">\n",
       "      <th></th>\n",
       "      <th>ID</th>\n",
       "      <th>Date</th>\n",
       "      <th>First</th>\n",
       "      <th>Last</th>\n",
       "      <th>Full</th>\n",
       "      <th>GRADE LEVEL</th>\n",
       "      <th>STATUS</th>\n",
       "    </tr>\n",
       "  </thead>\n",
       "  <tbody>\n",
       "    <tr>\n",
       "      <th>0</th>\n",
       "      <td>1</td>\n",
       "      <td>10/14/2024</td>\n",
       "      <td>John</td>\n",
       "      <td>Smith</td>\n",
       "      <td>John Smith</td>\n",
       "      <td>Junior</td>\n",
       "      <td>OK</td>\n",
       "    </tr>\n",
       "    <tr>\n",
       "      <th>1</th>\n",
       "      <td>2</td>\n",
       "      <td>10/15/2024</td>\n",
       "      <td>Sam</td>\n",
       "      <td>Johnson</td>\n",
       "      <td>Sam Johnson</td>\n",
       "      <td>Freshman</td>\n",
       "      <td>Hungry</td>\n",
       "    </tr>\n",
       "    <tr>\n",
       "      <th>2</th>\n",
       "      <td>3</td>\n",
       "      <td>10/16/2024</td>\n",
       "      <td>Ted</td>\n",
       "      <td>Williams</td>\n",
       "      <td>Ted Williams</td>\n",
       "      <td>Senior</td>\n",
       "      <td>Tired</td>\n",
       "    </tr>\n",
       "    <tr>\n",
       "      <th>3</th>\n",
       "      <td>4</td>\n",
       "      <td>10/17/2024</td>\n",
       "      <td>Simon</td>\n",
       "      <td>Brown</td>\n",
       "      <td>Simon Brown</td>\n",
       "      <td>Junior</td>\n",
       "      <td>Hungry</td>\n",
       "    </tr>\n",
       "    <tr>\n",
       "      <th>4</th>\n",
       "      <td>5</td>\n",
       "      <td>10/18/2024</td>\n",
       "      <td>Doug</td>\n",
       "      <td>Jones</td>\n",
       "      <td>Doug Jones</td>\n",
       "      <td>Freshman</td>\n",
       "      <td>OK</td>\n",
       "    </tr>\n",
       "    <tr>\n",
       "      <th>5</th>\n",
       "      <td>6</td>\n",
       "      <td>10/19/2024</td>\n",
       "      <td>Scott</td>\n",
       "      <td>garcia</td>\n",
       "      <td>Scott garcia</td>\n",
       "      <td>Sophomore</td>\n",
       "      <td>OK</td>\n",
       "    </tr>\n",
       "    <tr>\n",
       "      <th>6</th>\n",
       "      <td>7</td>\n",
       "      <td>10/20/2024</td>\n",
       "      <td>Jonathan</td>\n",
       "      <td>Miller</td>\n",
       "      <td>Jonathan Miller</td>\n",
       "      <td>Junior</td>\n",
       "      <td>OK</td>\n",
       "    </tr>\n",
       "    <tr>\n",
       "      <th>7</th>\n",
       "      <td>8</td>\n",
       "      <td>10/21/2024</td>\n",
       "      <td>Jeremy</td>\n",
       "      <td>Davis</td>\n",
       "      <td>Jeremy Davis</td>\n",
       "      <td>Freshman</td>\n",
       "      <td>OK</td>\n",
       "    </tr>\n",
       "    <tr>\n",
       "      <th>8</th>\n",
       "      <td>9</td>\n",
       "      <td>10/22/2024</td>\n",
       "      <td>Nickolas</td>\n",
       "      <td>Rodoriquez</td>\n",
       "      <td>Nickolas Rodoriquez</td>\n",
       "      <td>Senior</td>\n",
       "      <td>OK</td>\n",
       "    </tr>\n",
       "    <tr>\n",
       "      <th>9</th>\n",
       "      <td>10</td>\n",
       "      <td>10/23/2024</td>\n",
       "      <td>Nikita</td>\n",
       "      <td>Martinez</td>\n",
       "      <td>Nikita Martinez</td>\n",
       "      <td>Sophomore</td>\n",
       "      <td>OK</td>\n",
       "    </tr>\n",
       "    <tr>\n",
       "      <th>10</th>\n",
       "      <td>11</td>\n",
       "      <td>10/24/2024</td>\n",
       "      <td>Kaitlyn</td>\n",
       "      <td>Hernandez</td>\n",
       "      <td>Kaitlyn Hernandez</td>\n",
       "      <td>Sophomore</td>\n",
       "      <td>Hungry</td>\n",
       "    </tr>\n",
       "    <tr>\n",
       "      <th>11</th>\n",
       "      <td>12</td>\n",
       "      <td>10/25/2024</td>\n",
       "      <td>Mark</td>\n",
       "      <td>Lopez</td>\n",
       "      <td>Mark Lopez</td>\n",
       "      <td>Junior</td>\n",
       "      <td>OK</td>\n",
       "    </tr>\n",
       "    <tr>\n",
       "      <th>12</th>\n",
       "      <td>13</td>\n",
       "      <td>10/26/2024</td>\n",
       "      <td>James</td>\n",
       "      <td>Gonzales</td>\n",
       "      <td>James Gonzales</td>\n",
       "      <td>Junior</td>\n",
       "      <td>Tired</td>\n",
       "    </tr>\n",
       "    <tr>\n",
       "      <th>13</th>\n",
       "      <td>14</td>\n",
       "      <td>10/27/2024</td>\n",
       "      <td>Nathan</td>\n",
       "      <td>Wilson</td>\n",
       "      <td>Nathan Wilson</td>\n",
       "      <td>Senior</td>\n",
       "      <td>OK</td>\n",
       "    </tr>\n",
       "    <tr>\n",
       "      <th>14</th>\n",
       "      <td>15</td>\n",
       "      <td>10/28/2024</td>\n",
       "      <td>Tiffany</td>\n",
       "      <td>Anderson</td>\n",
       "      <td>Tiffany Anderson</td>\n",
       "      <td>Junior</td>\n",
       "      <td>Hungry</td>\n",
       "    </tr>\n",
       "    <tr>\n",
       "      <th>15</th>\n",
       "      <td>16</td>\n",
       "      <td>10/29/2024</td>\n",
       "      <td>Sarah</td>\n",
       "      <td>Thomas</td>\n",
       "      <td>Sarah Thomas</td>\n",
       "      <td>Junior</td>\n",
       "      <td>OK</td>\n",
       "    </tr>\n",
       "    <tr>\n",
       "      <th>16</th>\n",
       "      <td>17</td>\n",
       "      <td>10/30/2024</td>\n",
       "      <td>Janet</td>\n",
       "      <td>Taylor</td>\n",
       "      <td>Janet Taylor</td>\n",
       "      <td>Junior</td>\n",
       "      <td>Hungry</td>\n",
       "    </tr>\n",
       "    <tr>\n",
       "      <th>17</th>\n",
       "      <td>18</td>\n",
       "      <td>10/31/2024</td>\n",
       "      <td>Samatha</td>\n",
       "      <td>Moore</td>\n",
       "      <td>Samatha Moore</td>\n",
       "      <td>Sophomore</td>\n",
       "      <td>OK</td>\n",
       "    </tr>\n",
       "  </tbody>\n",
       "</table>\n",
       "</div>"
      ],
      "text/plain": [
       "    ID        Date     First        Last                 Full GRADE LEVEL  \\\n",
       "0    1  10/14/2024      John       Smith           John Smith      Junior   \n",
       "1    2  10/15/2024       Sam     Johnson          Sam Johnson    Freshman   \n",
       "2    3  10/16/2024       Ted    Williams         Ted Williams      Senior   \n",
       "3    4  10/17/2024     Simon       Brown          Simon Brown      Junior   \n",
       "4    5  10/18/2024      Doug       Jones           Doug Jones    Freshman   \n",
       "5    6  10/19/2024     Scott      garcia         Scott garcia   Sophomore   \n",
       "6    7  10/20/2024  Jonathan      Miller      Jonathan Miller      Junior   \n",
       "7    8  10/21/2024    Jeremy       Davis         Jeremy Davis    Freshman   \n",
       "8    9  10/22/2024  Nickolas  Rodoriquez  Nickolas Rodoriquez      Senior   \n",
       "9   10  10/23/2024    Nikita    Martinez      Nikita Martinez   Sophomore   \n",
       "10  11  10/24/2024   Kaitlyn   Hernandez    Kaitlyn Hernandez   Sophomore   \n",
       "11  12  10/25/2024      Mark       Lopez           Mark Lopez      Junior   \n",
       "12  13  10/26/2024     James    Gonzales       James Gonzales      Junior   \n",
       "13  14  10/27/2024    Nathan      Wilson        Nathan Wilson      Senior   \n",
       "14  15  10/28/2024   Tiffany    Anderson     Tiffany Anderson      Junior   \n",
       "15  16  10/29/2024     Sarah      Thomas         Sarah Thomas      Junior   \n",
       "16  17  10/30/2024     Janet      Taylor         Janet Taylor      Junior   \n",
       "17  18  10/31/2024   Samatha       Moore        Samatha Moore   Sophomore   \n",
       "\n",
       "    STATUS  \n",
       "0       OK  \n",
       "1   Hungry  \n",
       "2    Tired  \n",
       "3   Hungry  \n",
       "4       OK  \n",
       "5       OK  \n",
       "6       OK  \n",
       "7       OK  \n",
       "8       OK  \n",
       "9       OK  \n",
       "10  Hungry  \n",
       "11      OK  \n",
       "12   Tired  \n",
       "13      OK  \n",
       "14  Hungry  \n",
       "15      OK  \n",
       "16  Hungry  \n",
       "17      OK  "
      ]
     },
     "execution_count": 3,
     "metadata": {},
     "output_type": "execute_result"
    }
   ],
   "source": [
    "my_data = pd.read_csv('aggregation_ops.csv')\n",
    "my_data"
   ]
  },
  {
   "cell_type": "code",
   "execution_count": 4,
   "metadata": {},
   "outputs": [
    {
     "data": {
      "text/html": [
       "<div>\n",
       "<style>\n",
       "    .dataframe thead tr:only-child th {\n",
       "        text-align: right;\n",
       "    }\n",
       "\n",
       "    .dataframe thead th {\n",
       "        text-align: left;\n",
       "    }\n",
       "\n",
       "    .dataframe tbody tr th {\n",
       "        vertical-align: top;\n",
       "    }\n",
       "</style>\n",
       "<table border=\"1\" class=\"dataframe\">\n",
       "  <thead>\n",
       "    <tr style=\"text-align: right;\">\n",
       "      <th></th>\n",
       "      <th>ID</th>\n",
       "      <th>Last</th>\n",
       "      <th>STATUS</th>\n",
       "      <th>Full</th>\n",
       "    </tr>\n",
       "  </thead>\n",
       "  <tbody>\n",
       "    <tr>\n",
       "      <th>0</th>\n",
       "      <td>1</td>\n",
       "      <td>Smith</td>\n",
       "      <td>OK</td>\n",
       "      <td>John Smith</td>\n",
       "    </tr>\n",
       "    <tr>\n",
       "      <th>1</th>\n",
       "      <td>2</td>\n",
       "      <td>Johnson</td>\n",
       "      <td>Hungry</td>\n",
       "      <td>Sam Johnson</td>\n",
       "    </tr>\n",
       "    <tr>\n",
       "      <th>2</th>\n",
       "      <td>3</td>\n",
       "      <td>Williams</td>\n",
       "      <td>Tired</td>\n",
       "      <td>Ted Williams</td>\n",
       "    </tr>\n",
       "  </tbody>\n",
       "</table>\n",
       "</div>"
      ],
      "text/plain": [
       "   ID      Last  STATUS          Full\n",
       "0   1     Smith      OK    John Smith\n",
       "1   2   Johnson  Hungry   Sam Johnson\n",
       "2   3  Williams   Tired  Ted Williams"
      ]
     },
     "execution_count": 4,
     "metadata": {},
     "output_type": "execute_result"
    }
   ],
   "source": [
    "Part_One = my_data[ ['ID','Last' , 'STATUS','Full'] ][0:3]\n",
    "Part_One"
   ]
  },
  {
   "cell_type": "code",
   "execution_count": 5,
   "metadata": {},
   "outputs": [
    {
     "data": {
      "text/html": [
       "<div>\n",
       "<style>\n",
       "    .dataframe thead tr:only-child th {\n",
       "        text-align: right;\n",
       "    }\n",
       "\n",
       "    .dataframe thead th {\n",
       "        text-align: left;\n",
       "    }\n",
       "\n",
       "    .dataframe tbody tr th {\n",
       "        vertical-align: top;\n",
       "    }\n",
       "</style>\n",
       "<table border=\"1\" class=\"dataframe\">\n",
       "  <thead>\n",
       "    <tr style=\"text-align: right;\">\n",
       "      <th></th>\n",
       "      <th>ID</th>\n",
       "      <th>Last</th>\n",
       "      <th>STATUS</th>\n",
       "      <th>Full</th>\n",
       "    </tr>\n",
       "  </thead>\n",
       "  <tbody>\n",
       "    <tr>\n",
       "      <th>14</th>\n",
       "      <td>15</td>\n",
       "      <td>Anderson</td>\n",
       "      <td>Hungry</td>\n",
       "      <td>Tiffany Anderson</td>\n",
       "    </tr>\n",
       "    <tr>\n",
       "      <th>15</th>\n",
       "      <td>16</td>\n",
       "      <td>Thomas</td>\n",
       "      <td>OK</td>\n",
       "      <td>Sarah Thomas</td>\n",
       "    </tr>\n",
       "    <tr>\n",
       "      <th>16</th>\n",
       "      <td>17</td>\n",
       "      <td>Taylor</td>\n",
       "      <td>Hungry</td>\n",
       "      <td>Janet Taylor</td>\n",
       "    </tr>\n",
       "  </tbody>\n",
       "</table>\n",
       "</div>"
      ],
      "text/plain": [
       "    ID      Last  STATUS              Full\n",
       "14  15  Anderson  Hungry  Tiffany Anderson\n",
       "15  16    Thomas      OK      Sarah Thomas\n",
       "16  17    Taylor  Hungry      Janet Taylor"
      ]
     },
     "execution_count": 5,
     "metadata": {},
     "output_type": "execute_result"
    }
   ],
   "source": [
    "Part_Two = my_data[ ['ID','Last', 'STATUS','Full'] ][14:17]\n",
    "Part_Two"
   ]
  },
  {
   "cell_type": "code",
   "execution_count": 8,
   "metadata": {},
   "outputs": [
    {
     "data": {
      "text/html": [
       "<div>\n",
       "<style>\n",
       "    .dataframe thead tr:only-child th {\n",
       "        text-align: right;\n",
       "    }\n",
       "\n",
       "    .dataframe thead th {\n",
       "        text-align: left;\n",
       "    }\n",
       "\n",
       "    .dataframe tbody tr th {\n",
       "        vertical-align: top;\n",
       "    }\n",
       "</style>\n",
       "<table border=\"1\" class=\"dataframe\">\n",
       "  <thead>\n",
       "    <tr style=\"text-align: right;\">\n",
       "      <th></th>\n",
       "      <th></th>\n",
       "      <th>ID</th>\n",
       "      <th>Last</th>\n",
       "      <th>STATUS</th>\n",
       "      <th>Full</th>\n",
       "    </tr>\n",
       "  </thead>\n",
       "  <tbody>\n",
       "    <tr>\n",
       "      <th rowspan=\"3\" valign=\"top\">Part_One</th>\n",
       "      <th>0</th>\n",
       "      <td>1</td>\n",
       "      <td>Smith</td>\n",
       "      <td>OK</td>\n",
       "      <td>John Smith</td>\n",
       "    </tr>\n",
       "    <tr>\n",
       "      <th>1</th>\n",
       "      <td>2</td>\n",
       "      <td>Johnson</td>\n",
       "      <td>Hungry</td>\n",
       "      <td>Sam Johnson</td>\n",
       "    </tr>\n",
       "    <tr>\n",
       "      <th>2</th>\n",
       "      <td>3</td>\n",
       "      <td>Williams</td>\n",
       "      <td>Tired</td>\n",
       "      <td>Ted Williams</td>\n",
       "    </tr>\n",
       "    <tr>\n",
       "      <th rowspan=\"3\" valign=\"top\">Part_Two</th>\n",
       "      <th>14</th>\n",
       "      <td>15</td>\n",
       "      <td>Anderson</td>\n",
       "      <td>Hungry</td>\n",
       "      <td>Tiffany Anderson</td>\n",
       "    </tr>\n",
       "    <tr>\n",
       "      <th>15</th>\n",
       "      <td>16</td>\n",
       "      <td>Thomas</td>\n",
       "      <td>OK</td>\n",
       "      <td>Sarah Thomas</td>\n",
       "    </tr>\n",
       "    <tr>\n",
       "      <th>16</th>\n",
       "      <td>17</td>\n",
       "      <td>Taylor</td>\n",
       "      <td>Hungry</td>\n",
       "      <td>Janet Taylor</td>\n",
       "    </tr>\n",
       "  </tbody>\n",
       "</table>\n",
       "</div>"
      ],
      "text/plain": [
       "             ID      Last  STATUS              Full\n",
       "Part_One 0    1     Smith      OK        John Smith\n",
       "         1    2   Johnson  Hungry       Sam Johnson\n",
       "         2    3  Williams   Tired      Ted Williams\n",
       "Part_Two 14  15  Anderson  Hungry  Tiffany Anderson\n",
       "         15  16    Thomas      OK      Sarah Thomas\n",
       "         16  17    Taylor  Hungry      Janet Taylor"
      ]
     },
     "execution_count": 8,
     "metadata": {},
     "output_type": "execute_result"
    }
   ],
   "source": [
    "Part_Three = pd.concat([Part_One,Part_Two], keys=['Part_One','Part_Two'])\n",
    "Part_Three"
   ]
  },
  {
   "cell_type": "code",
   "execution_count": 18,
   "metadata": {},
   "outputs": [
    {
     "data": {
      "text/plain": [
       "6"
      ]
     },
     "execution_count": 18,
     "metadata": {},
     "output_type": "execute_result"
    }
   ],
   "source": [
    "TOTAL = (Part_Three['STATUS'].count())\n",
    "TOTAL"
   ]
  },
  {
   "cell_type": "code",
   "execution_count": 19,
   "metadata": {},
   "outputs": [
    {
     "data": {
      "text/html": [
       "<div>\n",
       "<style>\n",
       "    .dataframe thead tr:only-child th {\n",
       "        text-align: right;\n",
       "    }\n",
       "\n",
       "    .dataframe thead th {\n",
       "        text-align: left;\n",
       "    }\n",
       "\n",
       "    .dataframe tbody tr th {\n",
       "        vertical-align: top;\n",
       "    }\n",
       "</style>\n",
       "<table border=\"1\" class=\"dataframe\">\n",
       "  <thead>\n",
       "    <tr style=\"text-align: right;\">\n",
       "      <th></th>\n",
       "      <th></th>\n",
       "      <th>ID</th>\n",
       "      <th>Last</th>\n",
       "      <th>STATUS</th>\n",
       "      <th>Full</th>\n",
       "    </tr>\n",
       "  </thead>\n",
       "  <tbody>\n",
       "    <tr>\n",
       "      <th>Part_One</th>\n",
       "      <th>1</th>\n",
       "      <td>2</td>\n",
       "      <td>Johnson</td>\n",
       "      <td>Hungry</td>\n",
       "      <td>Sam Johnson</td>\n",
       "    </tr>\n",
       "    <tr>\n",
       "      <th rowspan=\"2\" valign=\"top\">Part_Two</th>\n",
       "      <th>14</th>\n",
       "      <td>15</td>\n",
       "      <td>Anderson</td>\n",
       "      <td>Hungry</td>\n",
       "      <td>Tiffany Anderson</td>\n",
       "    </tr>\n",
       "    <tr>\n",
       "      <th>16</th>\n",
       "      <td>17</td>\n",
       "      <td>Taylor</td>\n",
       "      <td>Hungry</td>\n",
       "      <td>Janet Taylor</td>\n",
       "    </tr>\n",
       "  </tbody>\n",
       "</table>\n",
       "</div>"
      ],
      "text/plain": [
       "             ID      Last  STATUS              Full\n",
       "Part_One 1    2   Johnson  Hungry       Sam Johnson\n",
       "Part_Two 14  15  Anderson  Hungry  Tiffany Anderson\n",
       "         16  17    Taylor  Hungry      Janet Taylor"
      ]
     },
     "execution_count": 19,
     "metadata": {},
     "output_type": "execute_result"
    }
   ],
   "source": [
    "filtered1 = Part_Three[ Part_Three['STATUS'] == 'Hungry' ]\n",
    "filtered1"
   ]
  },
  {
   "cell_type": "code",
   "execution_count": 30,
   "metadata": {},
   "outputs": [
    {
     "data": {
      "text/plain": [
       "3"
      ]
     },
     "execution_count": 30,
     "metadata": {},
     "output_type": "execute_result"
    }
   ],
   "source": [
    "PART1 = (filtered1['STATUS'].count())\n",
    "PART1"
   ]
  },
  {
   "cell_type": "code",
   "execution_count": 32,
   "metadata": {},
   "outputs": [
    {
     "name": "stdout",
     "output_type": "stream",
     "text": [
      "Percentage of people who are hungry\n"
     ]
    },
    {
     "data": {
      "text/plain": [
       "50.0"
      ]
     },
     "execution_count": 32,
     "metadata": {},
     "output_type": "execute_result"
    }
   ],
   "source": [
    "print('Percentage of people who are hungry')\n",
    "PERCENT1 = ((PART1 / TOTAL )*100)\n",
    "PERCENT1"
   ]
  },
  {
   "cell_type": "code",
   "execution_count": 26,
   "metadata": {},
   "outputs": [
    {
     "data": {
      "text/html": [
       "<div>\n",
       "<style>\n",
       "    .dataframe thead tr:only-child th {\n",
       "        text-align: right;\n",
       "    }\n",
       "\n",
       "    .dataframe thead th {\n",
       "        text-align: left;\n",
       "    }\n",
       "\n",
       "    .dataframe tbody tr th {\n",
       "        vertical-align: top;\n",
       "    }\n",
       "</style>\n",
       "<table border=\"1\" class=\"dataframe\">\n",
       "  <thead>\n",
       "    <tr style=\"text-align: right;\">\n",
       "      <th></th>\n",
       "      <th></th>\n",
       "      <th>ID</th>\n",
       "      <th>Last</th>\n",
       "      <th>STATUS</th>\n",
       "      <th>Full</th>\n",
       "    </tr>\n",
       "  </thead>\n",
       "  <tbody>\n",
       "    <tr>\n",
       "      <th>Part_One</th>\n",
       "      <th>2</th>\n",
       "      <td>3</td>\n",
       "      <td>Williams</td>\n",
       "      <td>Tired</td>\n",
       "      <td>Ted Williams</td>\n",
       "    </tr>\n",
       "  </tbody>\n",
       "</table>\n",
       "</div>"
      ],
      "text/plain": [
       "            ID      Last STATUS          Full\n",
       "Part_One 2   3  Williams  Tired  Ted Williams"
      ]
     },
     "execution_count": 26,
     "metadata": {},
     "output_type": "execute_result"
    }
   ],
   "source": [
    "filtered2 = Part_Three[ Part_Three['STATUS'] == 'Tired' ]\n",
    "filtered2"
   ]
  },
  {
   "cell_type": "code",
   "execution_count": 27,
   "metadata": {},
   "outputs": [
    {
     "data": {
      "text/plain": [
       "1"
      ]
     },
     "execution_count": 27,
     "metadata": {},
     "output_type": "execute_result"
    }
   ],
   "source": [
    "PART2 = (filtered2['STATUS'].count())\n",
    "PART2"
   ]
  },
  {
   "cell_type": "code",
   "execution_count": 33,
   "metadata": {},
   "outputs": [
    {
     "name": "stdout",
     "output_type": "stream",
     "text": [
      "Percentage of people who are hungry\n"
     ]
    },
    {
     "data": {
      "text/plain": [
       "16.666666666666664"
      ]
     },
     "execution_count": 33,
     "metadata": {},
     "output_type": "execute_result"
    }
   ],
   "source": [
    "print('Percentage of people who are Tired')\n",
    "PERCENT2 = ((PART2 / TOTAL )*100)\n",
    "PERCENT2"
   ]
  },
  {
   "cell_type": "code",
   "execution_count": 28,
   "metadata": {},
   "outputs": [
    {
     "data": {
      "text/html": [
       "<div>\n",
       "<style>\n",
       "    .dataframe thead tr:only-child th {\n",
       "        text-align: right;\n",
       "    }\n",
       "\n",
       "    .dataframe thead th {\n",
       "        text-align: left;\n",
       "    }\n",
       "\n",
       "    .dataframe tbody tr th {\n",
       "        vertical-align: top;\n",
       "    }\n",
       "</style>\n",
       "<table border=\"1\" class=\"dataframe\">\n",
       "  <thead>\n",
       "    <tr style=\"text-align: right;\">\n",
       "      <th></th>\n",
       "      <th></th>\n",
       "      <th>ID</th>\n",
       "      <th>Last</th>\n",
       "      <th>STATUS</th>\n",
       "      <th>Full</th>\n",
       "    </tr>\n",
       "  </thead>\n",
       "  <tbody>\n",
       "    <tr>\n",
       "      <th>Part_One</th>\n",
       "      <th>0</th>\n",
       "      <td>1</td>\n",
       "      <td>Smith</td>\n",
       "      <td>OK</td>\n",
       "      <td>John Smith</td>\n",
       "    </tr>\n",
       "    <tr>\n",
       "      <th>Part_Two</th>\n",
       "      <th>15</th>\n",
       "      <td>16</td>\n",
       "      <td>Thomas</td>\n",
       "      <td>OK</td>\n",
       "      <td>Sarah Thomas</td>\n",
       "    </tr>\n",
       "  </tbody>\n",
       "</table>\n",
       "</div>"
      ],
      "text/plain": [
       "             ID    Last STATUS          Full\n",
       "Part_One 0    1   Smith     OK    John Smith\n",
       "Part_Two 15  16  Thomas     OK  Sarah Thomas"
      ]
     },
     "execution_count": 28,
     "metadata": {},
     "output_type": "execute_result"
    }
   ],
   "source": [
    "filtered3 = Part_Three[ Part_Three['STATUS'] == 'OK' ]\n",
    "filtered3"
   ]
  },
  {
   "cell_type": "code",
   "execution_count": 29,
   "metadata": {},
   "outputs": [
    {
     "data": {
      "text/plain": [
       "2"
      ]
     },
     "execution_count": 29,
     "metadata": {},
     "output_type": "execute_result"
    }
   ],
   "source": [
    "PART3 = (filtered3['STATUS'].count())\n",
    "PART3"
   ]
  },
  {
   "cell_type": "code",
   "execution_count": 34,
   "metadata": {},
   "outputs": [
    {
     "name": "stdout",
     "output_type": "stream",
     "text": [
      "Percentage of people who are hungry\n"
     ]
    },
    {
     "data": {
      "text/plain": [
       "33.333333333333329"
      ]
     },
     "execution_count": 34,
     "metadata": {},
     "output_type": "execute_result"
    }
   ],
   "source": [
    "print('Percentage of people who are hungry')\n",
    "PERCENT3 = ((PART3 / TOTAL )*100)\n",
    "PERCENT3"
   ]
  },
  {
   "cell_type": "code",
   "execution_count": 47,
   "metadata": {},
   "outputs": [
    {
     "name": "stdout",
     "output_type": "stream",
     "text": [
      "Hungry\n",
      "50.0\n",
      "-----\n",
      "Tired\n",
      "16.6666666667\n",
      "-----\n",
      "OK\n",
      "33.3333333333\n"
     ]
    }
   ],
   "source": [
    "print('Hungry') \n",
    "print(PERCENT1)\n",
    "print('-----')\n",
    "print('Tired') \n",
    "print(PERCENT2)\n",
    "print('-----')\n",
    "print('OK') \n",
    "print(PERCENT3)"
   ]
  },
  {
   "cell_type": "markdown",
   "metadata": {},
   "source": [
    "Getting the formatting to work was difficult, especially with adding a % (Any formatting commands?)\n",
    "From our sample size of the population we can tell that 50% are Hungrh, 33.33% are OK and 16.67% are Tired\n",
    "We can extrapolate that someone should bring food to the meeting instead of coffee\n",
    "Also I dont think this sample size is indicitive of the larger population, with over 50% being OK in our population"
   ]
  }
 ],
 "metadata": {
  "kernelspec": {
   "display_name": "Python 3",
   "language": "python",
   "name": "python3"
  },
  "language_info": {
   "codemirror_mode": {
    "name": "ipython",
    "version": 3
   },
   "file_extension": ".py",
   "mimetype": "text/x-python",
   "name": "python",
   "nbconvert_exporter": "python",
   "pygments_lexer": "ipython3",
   "version": "3.6.1"
  }
 },
 "nbformat": 4,
 "nbformat_minor": 2
}
