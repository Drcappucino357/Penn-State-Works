{
 "cells": [
  {
   "cell_type": "code",
   "execution_count": 2,
   "id": "a8043bb7",
   "metadata": {},
   "outputs": [
    {
     "data": {
      "text/plain": [
       "86.5"
      ]
     },
     "execution_count": 2,
     "metadata": {},
     "output_type": "execute_result"
    }
   ],
   "source": [
    "# Normal Distribution\n",
    "import numpy as np\n",
    "from scipy import stats\n",
    "import matplotlib.pyplot as plt \n",
    "from scipy.stats import chi2\n",
    "\n",
    "mean = 85\n",
    "ST_D = 10 \n",
    "pop = 100\n",
    "n = 10 #Sqrt(n)\n",
    "\n",
    "exam = np.random.normal(mean, ST_D, n).round()\n",
    "exam\n",
    "mean_exam = exam.mean()\n",
    "mean_exam # sample interval?"
   ]
  },
  {
   "cell_type": "code",
   "execution_count": 3,
   "id": "e7a32b89",
   "metadata": {},
   "outputs": [
    {
     "name": "stdout",
     "output_type": "stream",
     "text": [
      "1.0752066611409408\n"
     ]
    }
   ],
   "source": [
    "# Confidence Intervals\n",
    "\n",
    "SE = ST_D / (mean_exam**.5) #SQRT of sample pop\n",
    "print (SE) # Hand calculated, not sure if we where to use this instead: standard_error = stats.sem(exam_mean)"
   ]
  },
  {
   "cell_type": "code",
   "execution_count": 4,
   "id": "ffedba3d",
   "metadata": {},
   "outputs": [
    {
     "name": "stdout",
     "output_type": "stream",
     "text": [
      "Upper: 88.60740505583624\n",
      "Lower: 84.39259494416376\n"
     ]
    }
   ],
   "source": [
    "# Upper and lower limits\n",
    "\n",
    "standard_deviation = 1.96\n",
    "upper_limit = mean_exam + (standard_deviation * SE) \n",
    "lower_limit = mean_exam - (standard_deviation * SE)\n",
    "print('Upper:', upper_limit)\n",
    "print('Lower:', lower_limit)"
   ]
  },
  {
   "cell_type": "markdown",
   "id": "494113b6",
   "metadata": {},
   "source": [
    "From this we can say that the students in the class will score will be slightly lower than the mean and are about 5 points away from each other. I'm not sure about my SE calculation but it seems like the class wil under perform the mean of 85. Based on our interval/sample (exam_mean) we can conclude the populations' mean is between our upper and lower intervals"
   ]
  },
  {
   "cell_type": "code",
   "execution_count": null,
   "id": "f03d7e65",
   "metadata": {},
   "outputs": [],
   "source": []
  },
  {
   "cell_type": "code",
   "execution_count": 5,
   "id": "ce19afd3",
   "metadata": {},
   "outputs": [
    {
     "data": {
      "text/plain": [
       "(8.325000000000001,\n",
       " 0.015568587758182073,\n",
       " 2,\n",
       " array([[ 6.66666667,  6.66666667, 10.66666667],\n",
       "        [ 3.33333333,  3.33333333,  5.33333333]]))"
      ]
     },
     "execution_count": 5,
     "metadata": {},
     "output_type": "execute_result"
    }
   ],
   "source": [
    "# Chi-Squared\n",
    "\n",
    "meta = np.array([ [ 10, 4, 10 ], [ 0, 6, 6 ] ])\n",
    "stats.chi2_contingency(meta)"
   ]
  },
  {
   "cell_type": "markdown",
   "id": "3fabf2ca",
   "metadata": {},
   "source": [
    "First line is our Chi Squared value: Difference between expected and observed values: (8.325)\n",
    "\n",
    "Second is our p-value: (0.0156) Significant**\n",
    "\n",
    "Third is our degrees of freedom or sample size: (2)\n",
    "\n",
    "Lastly is an expected/probable distribution: These are ranges for the scores based on the Authors who wrote them\n",
    "\n",
    "From this we can tell that the P-Value is significant so we reject the null hypothesis and the two observed are similar as expected"
   ]
  },
  {
   "cell_type": "code",
   "execution_count": null,
   "id": "fa42d4bf",
   "metadata": {},
   "outputs": [],
   "source": []
  },
  {
   "cell_type": "code",
   "execution_count": 6,
   "id": "c8852008",
   "metadata": {},
   "outputs": [
    {
     "data": {
      "text/plain": [
       "F_onewayResult(statistic=1.8591429056988171, pvalue=0.1730312394560325)"
      ]
     },
     "execution_count": 6,
     "metadata": {},
     "output_type": "execute_result"
    }
   ],
   "source": [
    "# Anova \n",
    "\n",
    "means = 100\n",
    "sizes = 500\n",
    "standard_dev = [10, 50]\n",
    "\n",
    "\n",
    "test1 = np.random.normal(means,  standard_dev[0], sizes).round()\n",
    "test2 = np.random.normal(means,  standard_dev[1], sizes).round()\n",
    "stats.f_oneway(test1, test2)"
   ]
  },
  {
   "cell_type": "markdown",
   "id": "ef0937c5",
   "metadata": {},
   "source": [
    "Our first value is our F-Value, variation between the sample means or variation within samples: (.5867) \n",
    "\n",
    "Second is our P-Value ( 0.4439 > 0.05 ) \n",
    "\n",
    "so we reject the null hypothesis and say that the testing groups are similar to each other"
   ]
  }
 ],
 "metadata": {
  "kernelspec": {
   "display_name": "Python 3 (ipykernel)",
   "language": "python",
   "name": "python3"
  },
  "language_info": {
   "codemirror_mode": {
    "name": "ipython",
    "version": 3
   },
   "file_extension": ".py",
   "mimetype": "text/x-python",
   "name": "python",
   "nbconvert_exporter": "python",
   "pygments_lexer": "ipython3",
   "version": "3.9.7"
  }
 },
 "nbformat": 4,
 "nbformat_minor": 5
}
