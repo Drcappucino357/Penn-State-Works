{
 "cells": [
  {
   "cell_type": "markdown",
   "metadata": {},
   "source": [
    "# Chapter 3 homework - Charting\n",
    "\n",
    "    # This is a basic example, but it should layout the process of data mining.\n",
    "    # If your hypthesis is more complex, you'll have to do more calculcations before presenting/coming to a conclusion.\n",
    "        # But the process stays ultimatelty the same\n",
    "            # Define requirements\n",
    "            # Data collections\n",
    "            # Perform calculcations/build model\n",
    "            # Relay your findings / conclusion\n",
    "\n",
    "- prompt: output and chart the percentages of customer ratings\n",
    "- Hypothesis: One or two rating will have the majority of entries\n",
    "- Null :      No specific rating will be most common\n",
    "   \n",
    "### Import your data\n",
    "- You will find this dataset on Canva under Files -> Datafiles -> Week 7 -> amazon_products.csv Download amazon_products.csv\n",
    "- Output/print the first three rows\n",
    "- Change the \"average_review_rating\" column to only show float values instead of \"5.0 out of 5 stars\".\n",
    "- I/e  \"5.0 out of 5 stars\" changes to 5.0 \n",
    "- Output/print the first three rows of the column 'average_review_rating' \n",
    "\n",
    "### Using bins,\n",
    "- Output the total count of each review using \"uniq-id\" as your output column using bins = [0, 1, 2, 3, 4, 5]\n",
    "- Using your bins, calculate and output each bin's percentage using \"uniq-id\" as your output column. \n",
    "\n",
    "### Using Buckets,\n",
    "- Create/cut ten buckets and add them to your data using the \"bucket\" column name.\n",
    "- Output the count of \"uniq_id\" for each bucket\n",
    "- Output your buckets as a bar chart\n",
    "- Output your buckets as a pie chart using the \"uniq_id\" column for counts"
   ]
  },
  {
   "cell_type": "markdown",
   "metadata": {},
   "source": [
    "## More Notes\n",
    "- Basic example but should layout the process of data mining\n",
    "- If your hypothesis is more complex, you will do the same thing with more calculations \n",
    "- The data mining process untimately stays the same:\n",
    "    1. Define our requirements\n",
    "    2. Data collections  --> Can also be data cleansing \n",
    "    3. Perform calculations / build model\n",
    "    4. Relay our finding / conclusions\n",
    "    \n",
    "    \n",
    "# Prompt \n",
    "    - Output and chart the percentages of customer rating \n",
    "    - Hypothesis: One or two rating will have the majority or rating\n",
    "    - Null hypothesis: No specific rating will be \"most common\" or a even distribution between all ratings "
   ]
  },
  {
   "cell_type": "code",
   "execution_count": 1,
   "metadata": {},
   "outputs": [
    {
     "data": {
      "text/html": [
       "<div>\n",
       "<style>\n",
       "    .dataframe thead tr:only-child th {\n",
       "        text-align: right;\n",
       "    }\n",
       "\n",
       "    .dataframe thead th {\n",
       "        text-align: left;\n",
       "    }\n",
       "\n",
       "    .dataframe tbody tr th {\n",
       "        vertical-align: top;\n",
       "    }\n",
       "</style>\n",
       "<table border=\"1\" class=\"dataframe\">\n",
       "  <thead>\n",
       "    <tr style=\"text-align: right;\">\n",
       "      <th></th>\n",
       "      <th>uniq_id</th>\n",
       "      <th>product_name</th>\n",
       "      <th>manufacturer</th>\n",
       "      <th>price</th>\n",
       "      <th>number_available_in_stock</th>\n",
       "      <th>number_of_reviews</th>\n",
       "      <th>number_of_answered_questions</th>\n",
       "      <th>average_review_rating</th>\n",
       "      <th>amazon_category_and_sub_category</th>\n",
       "      <th>description</th>\n",
       "      <th>product_information</th>\n",
       "      <th>product_description</th>\n",
       "      <th>items_customers_buy_after_viewing_this_item</th>\n",
       "      <th>customer_questions_and_answers</th>\n",
       "    </tr>\n",
       "  </thead>\n",
       "  <tbody>\n",
       "    <tr>\n",
       "      <th>0</th>\n",
       "      <td>eac7efa5dbd3d667f26eb3d3ab504464</td>\n",
       "      <td>Hornby 2014 Catalogue</td>\n",
       "      <td>Hornby</td>\n",
       "      <td>£3.42</td>\n",
       "      <td>5 new</td>\n",
       "      <td>15.0</td>\n",
       "      <td>1.0</td>\n",
       "      <td>4.9 out of 5 stars</td>\n",
       "      <td>Hobbies &gt; Model Trains &amp; Railway Sets &gt; Rail V...</td>\n",
       "      <td>Product Description Hornby 2014 Catalogue Box ...</td>\n",
       "      <td>Technical Details Item Weight640 g Product Dim...</td>\n",
       "      <td>Product Description Hornby 2014 Catalogue Box ...</td>\n",
       "      <td>http://www.amazon.co.uk/Hornby-R8150-Catalogue...</td>\n",
       "      <td>Does this catalogue detail all the previous Ho...</td>\n",
       "    </tr>\n",
       "    <tr>\n",
       "      <th>1</th>\n",
       "      <td>b17540ef7e86e461d37f3ae58b7b72ac</td>\n",
       "      <td>FunkyBuys® Large Christmas Holiday Express Fes...</td>\n",
       "      <td>FunkyBuys</td>\n",
       "      <td>£16.99</td>\n",
       "      <td>NaN</td>\n",
       "      <td>2.0</td>\n",
       "      <td>1.0</td>\n",
       "      <td>4.5 out of 5 stars</td>\n",
       "      <td>Hobbies &gt; Model Trains &amp; Railway Sets &gt; Rail V...</td>\n",
       "      <td>Size Name:Large FunkyBuys® Large Christmas Hol...</td>\n",
       "      <td>Technical Details Manufacturer recommended age...</td>\n",
       "      <td>Size Name:Large FunkyBuys® Large Christmas Hol...</td>\n",
       "      <td>http://www.amazon.co.uk/Christmas-Holiday-Expr...</td>\n",
       "      <td>can you turn off sounds // hi no you cant turn...</td>\n",
       "    </tr>\n",
       "  </tbody>\n",
       "</table>\n",
       "</div>"
      ],
      "text/plain": [
       "                            uniq_id  \\\n",
       "0  eac7efa5dbd3d667f26eb3d3ab504464   \n",
       "1  b17540ef7e86e461d37f3ae58b7b72ac   \n",
       "\n",
       "                                        product_name manufacturer   price  \\\n",
       "0                              Hornby 2014 Catalogue       Hornby   £3.42   \n",
       "1  FunkyBuys® Large Christmas Holiday Express Fes...    FunkyBuys  £16.99   \n",
       "\n",
       "  number_available_in_stock  number_of_reviews  number_of_answered_questions  \\\n",
       "0                     5 new               15.0                           1.0   \n",
       "1                       NaN                2.0                           1.0   \n",
       "\n",
       "  average_review_rating                   amazon_category_and_sub_category  \\\n",
       "0    4.9 out of 5 stars  Hobbies > Model Trains & Railway Sets > Rail V...   \n",
       "1    4.5 out of 5 stars  Hobbies > Model Trains & Railway Sets > Rail V...   \n",
       "\n",
       "                                         description  \\\n",
       "0  Product Description Hornby 2014 Catalogue Box ...   \n",
       "1  Size Name:Large FunkyBuys® Large Christmas Hol...   \n",
       "\n",
       "                                 product_information  \\\n",
       "0  Technical Details Item Weight640 g Product Dim...   \n",
       "1  Technical Details Manufacturer recommended age...   \n",
       "\n",
       "                                 product_description  \\\n",
       "0  Product Description Hornby 2014 Catalogue Box ...   \n",
       "1  Size Name:Large FunkyBuys® Large Christmas Hol...   \n",
       "\n",
       "         items_customers_buy_after_viewing_this_item  \\\n",
       "0  http://www.amazon.co.uk/Hornby-R8150-Catalogue...   \n",
       "1  http://www.amazon.co.uk/Christmas-Holiday-Expr...   \n",
       "\n",
       "                      customer_questions_and_answers  \n",
       "0  Does this catalogue detail all the previous Ho...  \n",
       "1  can you turn off sounds // hi no you cant turn...  "
      ]
     },
     "execution_count": 1,
     "metadata": {},
     "output_type": "execute_result"
    }
   ],
   "source": [
    "import pandas as pd\n",
    "import numpy as np \n",
    "import matplotlib.pyplot as plt\n",
    "\n",
    "data = pd.read_csv('Amazon_Products.csv')\n",
    "(data[0:2])"
   ]
  },
  {
   "cell_type": "code",
   "execution_count": 2,
   "metadata": {},
   "outputs": [
    {
     "name": "stdout",
     "output_type": "stream",
     "text": [
      "0    4.9 out of 5 stars\n",
      "1    4.5 out of 5 stars\n",
      "Name: average_review_rating, dtype: object\n"
     ]
    }
   ],
   "source": [
    "print(data['average_review_rating'][0:2])"
   ]
  },
  {
   "cell_type": "code",
   "execution_count": 3,
   "metadata": {},
   "outputs": [
    {
     "name": "stdout",
     "output_type": "stream",
     "text": [
      "0    4.9\n",
      "1    4.5\n",
      "Name: average_review_rating, dtype: object\n"
     ]
    }
   ],
   "source": [
    "# Fix review column to only show float values \n",
    "    # STRING REPLACEMENT METHOD - like find and replace\n",
    "    # astype()\n",
    "    # How to add a column // data['NAME_GOES_HERE']\n",
    "    \n",
    "data['average_review_rating'] = data['average_review_rating'].str.replace(' out of 5 stars','')\n",
    "print(data['average_review_rating'][0:2])"
   ]
  },
  {
   "cell_type": "code",
   "execution_count": 4,
   "metadata": {},
   "outputs": [
    {
     "name": "stdout",
     "output_type": "stream",
     "text": [
      "4.94.53.95.04.7\n"
     ]
    }
   ],
   "source": [
    "# Check for floats\n",
    "\n",
    "print(data['average_review_rating'][0:5].sum()) # This is what a string looks like when summed NOT a float"
   ]
  },
  {
   "cell_type": "code",
   "execution_count": 5,
   "metadata": {
    "collapsed": true
   },
   "outputs": [],
   "source": [
    "# Float conversion \n",
    "\n",
    "data['average_review_rating'] = data['average_review_rating'].astype(float)"
   ]
  },
  {
   "cell_type": "code",
   "execution_count": 6,
   "metadata": {},
   "outputs": [
    {
     "name": "stdout",
     "output_type": "stream",
     "text": [
      "23.0\n"
     ]
    }
   ],
   "source": [
    "# Check for floats again\n",
    "\n",
    "print(data['average_review_rating'][0:5].sum()) # This is how a numerical column is treated when summed NOT a string"
   ]
  },
  {
   "cell_type": "code",
   "execution_count": 7,
   "metadata": {},
   "outputs": [
    {
     "name": "stdout",
     "output_type": "stream",
     "text": [
      "average_review_rating\n",
      "3.0       3\n",
      "3.3       1\n",
      "3.5       2\n",
      "3.7       2\n",
      "3.8       1\n",
      "3.9       6\n",
      "4.0     655\n",
      "4.1      74\n",
      "4.2     106\n",
      "4.3     212\n",
      "4.4     153\n",
      "4.5     355\n",
      "4.6     176\n",
      "4.7     257\n",
      "4.8     276\n",
      "4.9     101\n",
      "5.0    2602\n",
      "Name: uniq_id, dtype: int64\n"
     ]
    }
   ],
   "source": [
    "# Output the total count for each review score\n",
    "\n",
    "total_count_scores = data.groupby('average_review_rating').count()\n",
    "print(total_count_scores['uniq_id'])"
   ]
  },
  {
   "cell_type": "code",
   "execution_count": 8,
   "metadata": {},
   "outputs": [
    {
     "name": "stdout",
     "output_type": "stream",
     "text": [
      "4994\n"
     ]
    }
   ],
   "source": [
    "# Calculate the total number of entries based on the number of iniq_id \n",
    "total_count = data['uniq_id'].count()\n",
    "print(total_count) # Total responces"
   ]
  },
  {
   "cell_type": "code",
   "execution_count": 9,
   "metadata": {},
   "outputs": [
    {
     "name": "stdout",
     "output_type": "stream",
     "text": [
      "0    (4, 5]\n",
      "1    (4, 5]\n",
      "2    (3, 4]\n",
      "3    (4, 5]\n",
      "4    (4, 5]\n",
      "Name: binned, dtype: category\n",
      "Categories (5, interval[int64]): [(0, 1] < (1, 2] < (2, 3] < (3, 4] < (4, 5]]\n",
      "binned\n",
      "(0, 1]       0\n",
      "(1, 2]       0\n",
      "(2, 3]       3\n",
      "(3, 4]     667\n",
      "(4, 5]    4312\n",
      "Name: uniq_id, dtype: int64\n",
      "binned\n",
      "(0, 1]     0.000000\n",
      "(1, 2]     0.000000\n",
      "(2, 3]     0.060072\n",
      "(3, 4]    13.356027\n",
      "(4, 5]    86.343612\n",
      "Name: uniq_id, dtype: float64\n"
     ]
    }
   ],
   "source": [
    "# Bins - the percentage of each review bin\n",
    "    # Defining our bins\n",
    "bins = [0, 1, 2, 3, 4, 5]\n",
    "data['binned'] = pd.cut(data['average_review_rating'], bins)\n",
    "print(data['binned'][:5])\n",
    "\n",
    "# Grouped bins\n",
    "\n",
    "grouped_bins = data.groupby('binned').count()\n",
    "print(grouped_bins['uniq_id'])\n",
    "\n",
    "# Getting the percentage \n",
    "\n",
    "grouped_percent = data.groupby('binned')['uniq_id'].count() / total_count * 100\n",
    "print(grouped_percent)"
   ]
  },
  {
   "cell_type": "code",
   "execution_count": 10,
   "metadata": {},
   "outputs": [
    {
     "name": "stdout",
     "output_type": "stream",
     "text": [
      "              uniq_id\n",
      "bucket               \n",
      "(2.998, 3.2]        3\n",
      "(3.2, 3.4]          1\n",
      "(3.4, 3.6]          2\n",
      "(3.6, 3.8]          3\n",
      "(3.8, 4.0]        661\n",
      "(4.0, 4.2]        180\n",
      "(4.2, 4.4]        365\n",
      "(4.4, 4.6]        531\n",
      "(4.6, 4.8]        533\n",
      "(4.8, 5.0]       2703\n"
     ]
    }
   ],
   "source": [
    "# Using our existing data, output the counts of each bucket\n",
    "# Create a new column and cut 10 buckets // ( data , number of buckets)\n",
    "\n",
    "data['bucket'] = pd.cut(data.average_review_rating, 10)\n",
    "bucket_out = data[['bucket', 'uniq_id']].groupby('bucket').count()\n",
    "print(bucket_out)"
   ]
  },
  {
   "cell_type": "code",
   "execution_count": 11,
   "metadata": {},
   "outputs": [
    {
     "data": {
      "image/png": "[encoded data removed]",
      "text/plain": [
       "<matplotlib.figure.Figure at 0x1e9516f5ba8>"
      ]
     },
     "metadata": {},
     "output_type": "display_data"
    }
   ],
   "source": [
    "# Super easy bar charts\n",
    "\n",
    "bucket_out.plot(kind = 'bar')\n",
    "plt.show()"
   ]
  },
  {
   "cell_type": "code",
   "execution_count": 12,
   "metadata": {},
   "outputs": [
    {
     "data": {
      "image/png": "[encoded data removed]",
      "text/plain": [
       "<matplotlib.figure.Figure at 0x1e9516f50f0>"
      ]
     },
     "metadata": {},
     "output_type": "display_data"
    }
   ],
   "source": [
    "# Creating a pie chart \n",
    "\n",
    "plt.pie(\n",
    "    bucket_out['uniq_id'], # Data\n",
    "    labels = bucket_out.index, # Labels\n",
    "    autopct='%1.1f%%', # Auto punctuation / decimal form\n",
    "    shadow = True, # Fancy shadow\n",
    "    startangle = 0 # Controls the display angle/rotation\n",
    ")\n",
    "plt.title('Total uniq_id per Review Bin')\n",
    "plt.show()"
   ]
  },
  {
   "cell_type": "markdown",
   "metadata": {},
   "source": [
    "## Since 4.8-5 stars is around 55% of our entries\n",
    "## We can assume with some level of confidence that two or more scores are more likely than the others \n",
    "    - Reject the null hypothesis - there are NOT one or two values that will stick out\n",
    "    - There infact are thus we accept the hypothesis \n",
    "    \n",
    "- To be more confident in our results, we should run additional tests:\n",
    "- Or even form a more numerically based hypothesis and conclusion \n",
    "    - I/E are rating and price correlated? \n",
    "    - If so what does that mean / what can we learn from this\n",
    "    - Are cheaper products score higher? \n",
    "    - Maybe we want to figure out where there are no scores less than 2"
   ]
  },
  {
   "cell_type": "code",
   "execution_count": null,
   "metadata": {
    "collapsed": true
   },
   "outputs": [],
   "source": []
  }
 ],
 "metadata": {
  "kernelspec": {
   "display_name": "Python 3",
   "language": "python",
   "name": "python3"
  },
  "language_info": {
   "codemirror_mode": {
    "name": "ipython",
    "version": 3
   },
   "file_extension": ".py",
   "mimetype": "text/x-python",
   "name": "python",
   "nbconvert_exporter": "python",
   "pygments_lexer": "ipython3",
   "version": "3.6.1"
  }
 },
 "nbformat": 4,
 "nbformat_minor": 2
}
