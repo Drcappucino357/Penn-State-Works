{
 "cells": [
  {
   "cell_type": "code",
   "execution_count": 3,
   "id": "d4c03229",
   "metadata": {},
   "outputs": [],
   "source": [
    "import pandas as pd\n",
    "import numpy as np\n",
    "from scipy.stats import binom\n",
    "import matplotlib.pyplot as plt\n",
    "from scipy.stats import poisson \n",
    "from scipy import stats"
   ]
  },
  {
   "cell_type": "code",
   "execution_count": 1,
   "id": "1c450b9a",
   "metadata": {},
   "outputs": [],
   "source": [
    "# Poisson Distribution"
   ]
  },
  {
   "cell_type": "code",
   "execution_count": 7,
   "id": "f8c947fc",
   "metadata": {},
   "outputs": [
    {
     "name": "stdout",
     "output_type": "stream",
     "text": [
      "Percentage Chance\n",
      "2.8056739047490202\n"
     ]
    }
   ],
   "source": [
    "observed = 200 \n",
    "guess = 198\n",
    "result = poisson(observed)\n",
    "output = result.pmf(guess)\n",
    "print(\"Percentage Chance\")\n",
    "print((output)*100)"
   ]
  },
  {
   "cell_type": "code",
   "execution_count": 15,
   "id": "81ef06f3",
   "metadata": {},
   "outputs": [
    {
     "data": {
      "image/png": "[encoded data removed]",
      "text/plain": [
       "<Figure size 432x288 with 1 Axes>"
      ]
     },
     "metadata": {
      "needs_background": "light"
     },
     "output_type": "display_data"
    }
   ],
   "source": [
    "x = range(observed)\n",
    "rv = result\n",
    "fig, ax = plt.subplots(1,1)\n",
    "ax.vlines(\n",
    "    x,\n",
    "    0,\n",
    "    rv.pmf(x),\n",
    "    colors = 'k',\n",
    "    linestyles = '-',\n",
    "    lw = 1,\n",
    "    label = 'Poisson'\n",
    ")\n",
    "ax.legend(loc = 'best', frameon = False) ## Best' causes the data and label to overlap and bottom top etc. thoughts? \n",
    "plt.show()"
   ]
  },
  {
   "cell_type": "code",
   "execution_count": null,
   "id": "b487db18",
   "metadata": {},
   "outputs": [],
   "source": [
    "# Binomial Distribution"
   ]
  },
  {
   "cell_type": "code",
   "execution_count": 9,
   "id": "b88393e3",
   "metadata": {},
   "outputs": [
    {
     "data": {
      "image/png": "[encoded data removed]",
      "text/plain": [
       "<Figure size 432x288 with 1 Axes>"
      ]
     },
     "metadata": {
      "needs_background": "light"
     },
     "output_type": "display_data"
    }
   ],
   "source": [
    "n, p = 200 , observed\n",
    "rv = binom(n , p)\n",
    "fig , ax = plt.subplots(1,1)\n",
    "x = range(201)"
   ]
  },
  {
   "cell_type": "code",
   "execution_count": null,
   "id": "9f8b6211",
   "metadata": {},
   "outputs": [],
   "source": [
    "ax.vlines(\n",
    "    x,\n",
    "    0,\n",
    "    rv.pmf(x),\n",
    "    colors = 'k',\n",
    "    linestyles = 'solid',\n",
    "    lw = w,\n",
    "    label = \n",
    "\n",
    ")"
   ]
  },
  {
   "cell_type": "code",
   "execution_count": 2,
   "id": "8646a9c8",
   "metadata": {},
   "outputs": [],
   "source": [
    "# Bernoulli Distribution "
   ]
  },
  {
   "cell_type": "code",
   "execution_count": null,
   "id": "0397dc1e",
   "metadata": {},
   "outputs": [],
   "source": []
  },
  {
   "cell_type": "code",
   "execution_count": null,
   "id": "2234b96d",
   "metadata": {},
   "outputs": [],
   "source": []
  }
 ],
 "metadata": {
  "kernelspec": {
   "display_name": "Python 3 (ipykernel)",
   "language": "python",
   "name": "python3"
  },
  "language_info": {
   "codemirror_mode": {
    "name": "ipython",
    "version": 3
   },
   "file_extension": ".py",
   "mimetype": "text/x-python",
   "name": "python",
   "nbconvert_exporter": "python",
   "pygments_lexer": "ipython3",
   "version": "3.9.7"
  }
 },
 "nbformat": 4,
 "nbformat_minor": 5
}
